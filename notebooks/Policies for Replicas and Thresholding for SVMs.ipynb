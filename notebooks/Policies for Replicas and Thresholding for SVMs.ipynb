{
 "cells": [
  {
   "cell_type": "markdown",
   "metadata": {},
   "source": [
    "# Policies for Replicas and Thresholding for SVMs\n",
    "\n",
    "Suppose we are given features $x$ such that $x_{ijk}$ is the $i$-th instance, $j$-th feature, and $k$-th replication of that instance and the corresponding class labels $y_i$. This notebook explores the following questions:\n",
    "\n",
    "- How should the replicas be used? Averaged? As additional instances?\n",
    "- Does thresholding (of feature values) increase classification accuracy?\n",
    "- How should thresholding be used in combination with replicas?"
   ]
  }
 ],
 "metadata": {
  "kernelspec": {
   "display_name": "Python 3",
   "language": "python",
   "name": "python3"
  },
  "language_info": {
   "codemirror_mode": {
    "name": "ipython",
    "version": 3
   },
   "file_extension": ".py",
   "mimetype": "text/x-python",
   "name": "python",
   "nbconvert_exporter": "python",
   "pygments_lexer": "ipython3",
   "version": "3.8.0"
  }
 },
 "nbformat": 4,
 "nbformat_minor": 2
}
