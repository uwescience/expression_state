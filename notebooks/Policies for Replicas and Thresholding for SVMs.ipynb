{
 "cells": [
  {
   "cell_type": "markdown",
   "metadata": {},
   "source": [
    "# Policies for Replicas and Thresholding for SVMs\n",
    "\n",
    "Suppose we are given features $x$ such that $x_{ijk}$ is the $i$-th instance, $j$-th feature, and $k$-th replication of that instance and the corresponding class labels $y_i$. This notebook explores the following questions:\n",
    "\n",
    "- How should the replicas be used? Averaged? As additional instances?\n",
    "- Does thresholding (of feature values) increase classification accuracy?\n",
    "- How should thresholding be used in combination with replicas?"
   ]
  },
  {
   "cell_type": "markdown",
   "metadata": {},
   "source": [
    "## Experiment\n",
    "\n",
    "- Ground truth feature values are taken from a grid of density $D$ in each feature over the range $[-1, 1]$ such that there are $D$ evenly spaced points. So, there are $D^J$ feature values in the ground truth.\n",
    "- Class values are assigned using the separating hyperplane $\\sum_j x_j = 0$ applied to ground truth feature values. A class value of 1 is assigned if $\\sum_j x_j > 0$ and -1 otherwise. The importance of a feature can be weighted by changing the separating hyperplane.\n",
    "- The replications are obtained by adding noise from $N(0, \\sigma^2)$ to each ground truth feature value.\n",
    "- Accuracy is evaluated for feature vectors $\\alpha (1, \\cdots, 1)$ by computing average accuracy for a set $alpha$ and at different $\\sigma^2$. The result of an experiment displays a plot of $\\alpha \\in [-\\epsilon, \\epsilon]$ versus accuracy at a value of $\\sigma^2$."
   ]
  }
 ],
 "metadata": {
  "kernelspec": {
   "display_name": "Python 3",
   "language": "python",
   "name": "python3"
  },
  "language_info": {
   "codemirror_mode": {
    "name": "ipython",
    "version": 3
   },
   "file_extension": ".py",
   "mimetype": "text/x-python",
   "name": "python",
   "nbconvert_exporter": "python",
   "pygments_lexer": "ipython3",
   "version": "3.8.0"
  }
 },
 "nbformat": 4,
 "nbformat_minor": 2
}
