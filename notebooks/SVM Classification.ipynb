{
 "cells": [
  {
   "cell_type": "markdown",
   "metadata": {},
   "source": [
    "# Support Vector Machine (SVM) Classification"
   ]
  },
  {
   "cell_type": "code",
   "execution_count": 1,
   "metadata": {
    "scrolled": true
   },
   "outputs": [],
   "source": [
    "import init\n",
    "from common import constants as cn\n",
    "from common.trinary_data import TrinaryData\n",
    "from common.data_provider import DataProvider\n",
    "from common_python.plots import util_plots\n",
    "from plots import util_plots as xutil_plots\n",
    "from common_python.classifier import classifier_ensemble\n",
    "from common_python.classifier import classifier_collection\n",
    "from common_python.classifier.classifier_ensemble_random_forest import ClassifierEnsembleRandomForest\n",
    "\n",
    "import collections\n",
    "import os\n",
    "import matplotlib.pyplot as plt\n",
    "import numpy as np\n",
    "import pandas as pd\n",
    "import sklearn\n",
    "from sklearn.decomposition import PCA\n",
    "from sklearn import svm\n",
    "from sklearn.model_selection import cross_val_score\n",
    "\n",
    "%matplotlib inline"
   ]
  },
  {
   "cell_type": "code",
   "execution_count": 2,
   "metadata": {
    "scrolled": true
   },
   "outputs": [
    {
     "data": {
      "text/html": [
       "<div>\n",
       "<style scoped>\n",
       "    .dataframe tbody tr th:only-of-type {\n",
       "        vertical-align: middle;\n",
       "    }\n",
       "\n",
       "    .dataframe tbody tr th {\n",
       "        vertical-align: top;\n",
       "    }\n",
       "\n",
       "    .dataframe thead th {\n",
       "        text-align: right;\n",
       "    }\n",
       "</style>\n",
       "<table border=\"1\" class=\"dataframe\">\n",
       "  <thead>\n",
       "    <tr style=\"text-align: right;\">\n",
       "      <th></th>\n",
       "      <th>0</th>\n",
       "      <th>1</th>\n",
       "      <th>2</th>\n",
       "      <th>3</th>\n",
       "      <th>4</th>\n",
       "      <th>5</th>\n",
       "      <th>6</th>\n",
       "      <th>7</th>\n",
       "      <th>8</th>\n",
       "      <th>9</th>\n",
       "      <th>...</th>\n",
       "      <th>1505</th>\n",
       "      <th>1506</th>\n",
       "      <th>1507</th>\n",
       "      <th>1508</th>\n",
       "      <th>1509</th>\n",
       "      <th>1510</th>\n",
       "      <th>1511</th>\n",
       "      <th>1512</th>\n",
       "      <th>1513</th>\n",
       "      <th>1514</th>\n",
       "    </tr>\n",
       "  </thead>\n",
       "  <tbody>\n",
       "    <tr>\n",
       "      <th>T2</th>\n",
       "      <td>-1</td>\n",
       "      <td>-1</td>\n",
       "      <td>-1</td>\n",
       "      <td>-1</td>\n",
       "      <td>-1</td>\n",
       "      <td>-1</td>\n",
       "      <td>-1</td>\n",
       "      <td>-1</td>\n",
       "      <td>-1</td>\n",
       "      <td>-1</td>\n",
       "      <td>...</td>\n",
       "      <td>1</td>\n",
       "      <td>1</td>\n",
       "      <td>1</td>\n",
       "      <td>1</td>\n",
       "      <td>1</td>\n",
       "      <td>1</td>\n",
       "      <td>1</td>\n",
       "      <td>1</td>\n",
       "      <td>1</td>\n",
       "      <td>1</td>\n",
       "    </tr>\n",
       "    <tr>\n",
       "      <th>T3</th>\n",
       "      <td>-1</td>\n",
       "      <td>-1</td>\n",
       "      <td>-1</td>\n",
       "      <td>-1</td>\n",
       "      <td>-1</td>\n",
       "      <td>-1</td>\n",
       "      <td>-1</td>\n",
       "      <td>-1</td>\n",
       "      <td>-1</td>\n",
       "      <td>-1</td>\n",
       "      <td>...</td>\n",
       "      <td>1</td>\n",
       "      <td>1</td>\n",
       "      <td>1</td>\n",
       "      <td>1</td>\n",
       "      <td>1</td>\n",
       "      <td>1</td>\n",
       "      <td>1</td>\n",
       "      <td>1</td>\n",
       "      <td>1</td>\n",
       "      <td>1</td>\n",
       "    </tr>\n",
       "    <tr>\n",
       "      <th>T4</th>\n",
       "      <td>-1</td>\n",
       "      <td>-1</td>\n",
       "      <td>-1</td>\n",
       "      <td>-1</td>\n",
       "      <td>-1</td>\n",
       "      <td>-1</td>\n",
       "      <td>-1</td>\n",
       "      <td>-1</td>\n",
       "      <td>-1</td>\n",
       "      <td>-1</td>\n",
       "      <td>...</td>\n",
       "      <td>1</td>\n",
       "      <td>1</td>\n",
       "      <td>1</td>\n",
       "      <td>1</td>\n",
       "      <td>1</td>\n",
       "      <td>1</td>\n",
       "      <td>1</td>\n",
       "      <td>1</td>\n",
       "      <td>1</td>\n",
       "      <td>1</td>\n",
       "    </tr>\n",
       "    <tr>\n",
       "      <th>T5</th>\n",
       "      <td>-1</td>\n",
       "      <td>-1</td>\n",
       "      <td>-1</td>\n",
       "      <td>-1</td>\n",
       "      <td>-1</td>\n",
       "      <td>-1</td>\n",
       "      <td>-1</td>\n",
       "      <td>-1</td>\n",
       "      <td>-1</td>\n",
       "      <td>-1</td>\n",
       "      <td>...</td>\n",
       "      <td>1</td>\n",
       "      <td>1</td>\n",
       "      <td>1</td>\n",
       "      <td>1</td>\n",
       "      <td>1</td>\n",
       "      <td>1</td>\n",
       "      <td>1</td>\n",
       "      <td>1</td>\n",
       "      <td>1</td>\n",
       "      <td>1</td>\n",
       "    </tr>\n",
       "    <tr>\n",
       "      <th>T6</th>\n",
       "      <td>-1</td>\n",
       "      <td>-1</td>\n",
       "      <td>-1</td>\n",
       "      <td>-1</td>\n",
       "      <td>-1</td>\n",
       "      <td>-1</td>\n",
       "      <td>-1</td>\n",
       "      <td>-1</td>\n",
       "      <td>-1</td>\n",
       "      <td>-1</td>\n",
       "      <td>...</td>\n",
       "      <td>1</td>\n",
       "      <td>1</td>\n",
       "      <td>1</td>\n",
       "      <td>1</td>\n",
       "      <td>1</td>\n",
       "      <td>1</td>\n",
       "      <td>1</td>\n",
       "      <td>1</td>\n",
       "      <td>1</td>\n",
       "      <td>1</td>\n",
       "    </tr>\n",
       "  </tbody>\n",
       "</table>\n",
       "<p>5 rows × 1515 columns</p>\n",
       "</div>"
      ],
      "text/plain": [
       "    0     1     2     3     4     5     6     7     8     9     ...   1505  \\\n",
       "T2    -1    -1    -1    -1    -1    -1    -1    -1    -1    -1  ...      1   \n",
       "T3    -1    -1    -1    -1    -1    -1    -1    -1    -1    -1  ...      1   \n",
       "T4    -1    -1    -1    -1    -1    -1    -1    -1    -1    -1  ...      1   \n",
       "T5    -1    -1    -1    -1    -1    -1    -1    -1    -1    -1  ...      1   \n",
       "T6    -1    -1    -1    -1    -1    -1    -1    -1    -1    -1  ...      1   \n",
       "\n",
       "    1506  1507  1508  1509  1510  1511  1512  1513  1514  \n",
       "T2     1     1     1     1     1     1     1     1     1  \n",
       "T3     1     1     1     1     1     1     1     1     1  \n",
       "T4     1     1     1     1     1     1     1     1     1  \n",
       "T5     1     1     1     1     1     1     1     1     1  \n",
       "T6     1     1     1     1     1     1     1     1     1  \n",
       "\n",
       "[5 rows x 1515 columns]"
      ]
     },
     "execution_count": 2,
     "metadata": {},
     "output_type": "execute_result"
    }
   ],
   "source": [
    "data = TrinaryData()\n",
    "data.df_X.head()"
   ]
  },
  {
   "cell_type": "code",
   "execution_count": 3,
   "metadata": {},
   "outputs": [
    {
     "data": {
      "text/plain": [
       "['__class__',\n",
       " '__delattr__',\n",
       " '__dict__',\n",
       " '__dir__',\n",
       " '__doc__',\n",
       " '__eq__',\n",
       " '__format__',\n",
       " '__ge__',\n",
       " '__getattribute__',\n",
       " '__gt__',\n",
       " '__hash__',\n",
       " '__init__',\n",
       " '__init_subclass__',\n",
       " '__le__',\n",
       " '__lt__',\n",
       " '__module__',\n",
       " '__ne__',\n",
       " '__new__',\n",
       " '__reduce__',\n",
       " '__reduce_ex__',\n",
       " '__repr__',\n",
       " '__setattr__',\n",
       " '__sizeof__',\n",
       " '__str__',\n",
       " '__subclasshook__',\n",
       " '__weakref__',\n",
       " 'df_X',\n",
       " 'features',\n",
       " 'provider',\n",
       " 'ser_y',\n",
       " 'state_dict']"
      ]
     },
     "execution_count": 3,
     "metadata": {},
     "output_type": "execute_result"
    }
   ],
   "source": [
    "dir(data)"
   ]
  },
  {
   "cell_type": "markdown",
   "metadata": {},
   "source": [
    "## Feature Selection\n",
    "Determine how many features to include."
   ]
  },
  {
   "cell_type": "code",
   "execution_count": 4,
   "metadata": {},
   "outputs": [
    {
     "data": {
      "image/png": "[encoded data removed]",
      "text/plain": [
       "<Figure size 432x288 with 1 Axes>"
      ]
     },
     "metadata": {
      "needs_background": "light"
     },
     "output_type": "display_data"
    },
    {
     "data": {
      "image/png": "[encoded data removed]",
      "text/plain": [
       "<Figure size 432x288 with 1 Axes>"
      ]
     },
     "metadata": {
      "needs_background": "light"
     },
     "output_type": "display_data"
    },
    {
     "data": {
      "image/png": "[encoded data removed]",
      "text/plain": [
       "<Figure size 432x288 with 1 Axes>"
      ]
     },
     "metadata": {
      "needs_background": "light"
     },
     "output_type": "display_data"
    },
    {
     "data": {
      "image/png": "[encoded data removed]",
      "text/plain": [
       "<Figure size 432x288 with 1 Axes>"
      ]
     },
     "metadata": {
      "needs_background": "light"
     },
     "output_type": "display_data"
    }
   ],
   "source": [
    "# Assess how many features should be included\n",
    "for filter in [10, 15, 20, 30]:\n",
    "    svm_ensemble = classifier_ensemble.ClassifierEnsemble(\n",
    "        classifier_ensemble.ClassifierDescriptorSVM(), filter_high_rank=filter, size=30)\n",
    "    df_X = data.df_X.copy()\n",
    "    df_X.columns = data.features\n",
    "    svm_ensemble.fit(df_X, data.ser_y)\n",
    "    # Analysis to determine how many features should be considered\n",
    "    svm_ensemble.plotImportance(title=\"%d\" % filter)\n",
    "    #svm_ensemble.plotRank()"
   ]
  },
  {
   "cell_type": "markdown",
   "metadata": {},
   "source": [
    "## Assess Model Quality With Cross Validation\n",
    "Need to assess the hyperparameters: number of classifiers, number of features."
   ]
  },
  {
   "cell_type": "code",
   "execution_count": 5,
   "metadata": {},
   "outputs": [],
   "source": [
    "def calcCVR(num_classifiers, num_features, num_iterations=10):\n",
    "     clf = classifier_ensemble.ClassifierEnsemble(\n",
    "         classifier_ensemble.ClassifierDescriptorSVM(),\n",
    "         filter_high_rank=num_features, size=num_classifiers)\n",
    "     return classifier_collection.ClassifierCollection.crossValidateByState(\n",
    "         clf, data.df_X, data.ser_y, num_iterations)\n"
   ]
  },
  {
   "cell_type": "code",
   "execution_count": 17,
   "metadata": {},
   "outputs": [
    {
     "data": {
      "text/plain": [
       "CrossValidationResult(mean=0.9780000000000001, std=0.036276714294434104, collection=<common_python.classifier.classifier_collection.ClassifierCollection object at 0x7f6a46815c88>)"
      ]
     },
     "execution_count": 17,
     "metadata": {},
     "output_type": "execute_result"
    }
   ],
   "source": [
    "# Construct a heatmap across the hyperparameter space for mean classification accuracy\n",
    "# May be more interesting to do a bar plot for number features\n",
    "# Observe that accuracy degrades with too many features. Get accuracy 1.0 at 15\n",
    "calcCVR(20, 1515)"
   ]
  },
  {
   "cell_type": "code",
   "execution_count": 6,
   "metadata": {},
   "outputs": [
    {
     "ename": "SyntaxError",
     "evalue": "invalid syntax (<ipython-input-6-5eb1bc9d579e>, line 1)",
     "output_type": "error",
     "traceback": [
      "\u001b[0;36m  File \u001b[0;32m\"<ipython-input-6-5eb1bc9d579e>\"\u001b[0;36m, line \u001b[0;32m1\u001b[0m\n\u001b[0;31m    STOP HERE\u001b[0m\n\u001b[0m            ^\u001b[0m\n\u001b[0;31mSyntaxError\u001b[0m\u001b[0;31m:\u001b[0m invalid syntax\n"
     ]
    }
   ],
   "source": [
    "STOP HERE\n",
    "clfs = [lin_clf, lin_clf]\n",
    "classes = [0, 1, 2, 3, 4]\n",
    "def predict(df_X):\n",
    "    \"\"\" \n",
    "    Default prediction algorithm. Reports probability of each class.\n",
    "    :param pd.DataFrame: features, indexed by instance.\n",
    "    \"\"\"\n",
    "    # Change to an array of array of features\n",
    "    DUMMY_COLUMN = \"dummy_column\"\n",
    "    array = df_X.values\n",
    "    array = array.reshape(len(df_X), -1) \n",
    "    # Create a dataframe of class predictions\n",
    "    clf_predictions = [clf.predict(df_X) for clf in clfs]\n",
    "    instance_predictions = [dict(collections.Counter(x)) for x in zip(*clf_predictions)]\n",
    "    df = pd.DataFrame()\n",
    "    df[DUMMY_COLUMN] = np.repeat(-1, len(classes))\n",
    "    for idx, instance in enumerate(instance_predictions):\n",
    "        ser = pd.Series([x for x in instance.values()], index=instance.keys())\n",
    "        df[idx] = ser\n",
    "    del df[DUMMY_COLUMN]\n",
    "    df = df.applymap(lambda v: 0 if np.isnan(v) else v)\n",
    "    df = df / len(clfs)\n",
    "    return df"
   ]
  },
  {
   "cell_type": "code",
   "execution_count": null,
   "metadata": {},
   "outputs": [],
   "source": [
    "df = data.df_X.loc[[\"T5\", \"T10\", \"T20\"], :]\n",
    "predict(df)"
   ]
  },
  {
   "cell_type": "code",
   "execution_count": null,
   "metadata": {
    "scrolled": true
   },
   "outputs": [],
   "source": [
    "predicted_class = []\n",
    "for index in data.df_X.index:\n",
    "     predicted = lin_clf.predict(data.df_X.loc[[index],:])[0]\n",
    "     predicted_class.append(predicted)"
   ]
  },
  {
   "cell_type": "code",
   "execution_count": null,
   "metadata": {
    "scrolled": true
   },
   "outputs": [],
   "source": [
    "predicted_class"
   ]
  },
  {
   "cell_type": "code",
   "execution_count": null,
   "metadata": {
    "scrolled": true
   },
   "outputs": [],
   "source": [
    "# Predicting a class\n",
    "lin_clf.predict(data.df_X.loc[[\"T18\"],:])"
   ]
  },
  {
   "cell_type": "code",
   "execution_count": null,
   "metadata": {
    "scrolled": true
   },
   "outputs": [],
   "source": [
    "for n in range(5):\n",
    "    plt.figure()\n",
    "    plt.scatter(range(1515), lin_clf.coef_[n])"
   ]
  },
  {
   "cell_type": "code",
   "execution_count": null,
   "metadata": {
    "scrolled": true
   },
   "outputs": [],
   "source": [
    "# Analysis of rank of gene for multiple iterations of cross validations\n",
    "df_X = data.df_X.copy()\n",
    "for holdouts in [1, 2]:\n",
    "    df_X.columns = data.features\n",
    "    result = classifier_ensemble.LinearSVMEnsemble.crossValidate(df_X, data.ser_y,\n",
    "                                                                 iterations=500, holdouts=holdouts)\n",
    "    result.ensemble.plotRank(top=30, title=\"Holdouts: %d\" % holdouts, ylim=(0,160))\n",
    "    result.ensemble.plotImportance(top=30, title=\"Holdouts: %d\" % holdouts, ylim=(0, 0.02))"
   ]
  },
  {
   "cell_type": "code",
   "execution_count": null,
   "metadata": {
    "scrolled": true
   },
   "outputs": [],
   "source": [
    "# Random forest\n",
    "df_X = data.df_X.copy()\n",
    "df_X.columns = data.features\n",
    "ensemble = classifier_ensemble.RandomForestEnsemble(df_X, data.ser_y, num_iterations=20,\n",
    "                        n_estimators=5000, max_features=1500, random_state=0,\n",
    "                        min_samples_split=2, bootstrap=True)\n",
    "result.ensemble.plotRank(top=30, title=\"Random Forest\", ylim=(0,160))\n",
    "result.ensemble.plotImportance(top=30, title=\"Random Forest\")"
   ]
  },
  {
   "cell_type": "code",
   "execution_count": null,
   "metadata": {
    "scrolled": false
   },
   "outputs": [],
   "source": [
    "states = data.ser_y.unique().tolist()\n",
    "holdouts = 1\n",
    "result = classifier_ensemble.LinearSVMEnsemble.crossValidate(data.df_X, data.ser_y,\n",
    "    classifier_args={\"C\": 0.5}, iterations=500, holdouts=holdouts)\n",
    "for state in states:   \n",
    "    result.ensemble.plotRank(class_selection=state, top=20, title=\"State: %d\" % state, ylim=(0,20))"
   ]
  },
  {
   "cell_type": "code",
   "execution_count": null,
   "metadata": {
    "scrolled": false
   },
   "outputs": [],
   "source": [
    "def evaluateRankFilter(high_rank,ylim=(-1,1), is_feature_columns=True):\n",
    "    states = data.ser_y.unique().tolist()\n",
    "    states.sort()\n",
    "    df_X = data.df_X.copy()\n",
    "    if is_feature_columns:\n",
    "        df_X.columns = data.features\n",
    "    holdouts = 1\n",
    "    result = classifier_ensemble.LinearSVMEnsemble.crossValidate(df_X, data.ser_y,\n",
    "        filter_high_rank=high_rank, iterations=500, holdouts=holdouts)\n",
    "    print(\"Accuracy: %f2.4 +/- %f2.4\"% (result.mean, result.std))\n",
    "    for state in states:   \n",
    "        result.ensemble.plotImportance(class_selection=state, top=high_rank, title=\"State: %d\" % state, ylim=ylim)"
   ]
  },
  {
   "cell_type": "code",
   "execution_count": null,
   "metadata": {},
   "outputs": [],
   "source": [
    "evaluateRankFilter(None, ylim=(-0.02, 0.02), is_feature_columns=False)"
   ]
  },
  {
   "cell_type": "code",
   "execution_count": null,
   "metadata": {},
   "outputs": [],
   "source": [
    "evaluateRankFilter(15)"
   ]
  },
  {
   "cell_type": "code",
   "execution_count": null,
   "metadata": {},
   "outputs": [],
   "source": [
    "result.mean, result.std"
   ]
  },
  {
   "cell_type": "markdown",
   "metadata": {},
   "source": [
    "**Observations**\n",
    "1. Rv3574 is associated with lipid metabolism and virulence. Rv3573c is upregulated in state 2 (hypoxia). Maybe in the same regulon?\n",
    "1. There are many genes that are perfectly correlated with Rv3573c.\n",
    "1. Consider some kind of feature selection to reduce the number of parameters (since C regularization in SVM doesn't seem to work). Select based on rank variance for each classifier?\n",
    "1. KstR, Rv3574, is key to regulation in anoxia lipid metabolism."
   ]
  },
  {
   "cell_type": "code",
   "execution_count": null,
   "metadata": {},
   "outputs": [],
   "source": []
  }
 ],
 "metadata": {
  "kernelspec": {
   "display_name": "Python 3",
   "language": "python",
   "name": "python3"
  },
  "language_info": {
   "codemirror_mode": {
    "name": "ipython",
    "version": 3
   },
   "file_extension": ".py",
   "mimetype": "text/x-python",
   "name": "python",
   "nbconvert_exporter": "python",
   "pygments_lexer": "ipython3",
   "version": "3.6.8"
  }
 },
 "nbformat": 4,
 "nbformat_minor": 2
}
